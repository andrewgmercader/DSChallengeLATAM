{
 "cells": [
  {
   "cell_type": "markdown",
   "id": "b1198f6b-c952-47eb-b867-ddd7fa48f045",
   "metadata": {},
   "source": [
    "Setting up github branch"
   ]
  },
  {
   "cell_type": "code",
   "execution_count": null,
   "id": "1bfed07f-2b46-4d2d-9bbb-137ca8e0f508",
   "metadata": {},
   "outputs": [],
   "source": []
  },
  {
   "cell_type": "raw",
   "id": "af562f5b-7c74-4b1a-923d-91f3ff22564e",
   "metadata": {},
   "source": []
  }
 ],
 "metadata": {
  "kernelspec": {
   "display_name": "Python 3 (ipykernel)",
   "language": "python",
   "name": "python3"
  },
  "language_info": {
   "codemirror_mode": {
    "name": "ipython",
    "version": 3
   },
   "file_extension": ".py",
   "mimetype": "text/x-python",
   "name": "python",
   "nbconvert_exporter": "python",
   "pygments_lexer": "ipython3",
   "version": "3.9.7"
  }
 },
 "nbformat": 4,
 "nbformat_minor": 5
}
